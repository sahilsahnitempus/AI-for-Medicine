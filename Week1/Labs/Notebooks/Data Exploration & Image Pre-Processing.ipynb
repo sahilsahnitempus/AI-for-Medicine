{
  "metadata": {
    "language_info": {
      "codemirror_mode": {
        "name": "ipython",
        "version": 3
      },
      "file_extension": ".py",
      "mimetype": "text/x-python",
      "name": "python",
      "nbconvert_exporter": "python",
      "pygments_lexer": "ipython3",
      "version": "3.11.2-final"
    },
    "orig_nbformat": 2,
    "kernelspec": {
      "name": "python3",
      "display_name": "Python 3.11.2 64-bit",
      "metadata": {
        "interpreter": {
          "hash": "2d4e9b9c84dab3e1662173f95b81bd7f8a551068d04f5f3c42d164db7312a928"
        }
      }
    },
    "colab": {
      "provenance": []
    }
  },
  "nbformat": 4,
  "nbformat_minor": 0,
  "cells": [
    {
      "cell_type": "code",
      "execution_count": null,
      "metadata": {
        "id": "mwFaf4p9ztwh"
      },
      "outputs": [],
      "source": [
        "import json"
      ]
    },
    {
      "cell_type": "code",
      "execution_count": null,
      "metadata": {
        "id": "Qdmyq9FXztwk"
      },
      "outputs": [],
      "source": [
        "d={\"ss\":\"dd\"}"
      ]
    },
    {
      "cell_type": "code",
      "execution_count": null,
      "metadata": {
        "id": "v_MkFJJ-ztwl",
        "outputId": "95bc3480-e31c-4c10-e4a0-67e455eb7f7c"
      },
      "outputs": [
        {
          "output_type": "stream",
          "name": "stdout",
          "text": [
            "{'ss': 'dd'}\n"
          ]
        }
      ],
      "source": [
        "print(d)"
      ]
    },
    {
      "cell_type": "code",
      "execution_count": 1,
      "metadata": {
        "id": "W0kgIqGIztwm"
      },
      "outputs": [],
      "source": [
        "ss = \"Test_colab\""
      ]
    },
    {
      "cell_type": "code",
      "source": [
        "print(ss)"
      ],
      "metadata": {
        "id": "AUvaYYvbz7lj",
        "outputId": "be74492c-1dbe-4322-f8ec-2945a238564f",
        "colab": {
          "base_uri": "https://localhost:8080/"
        }
      },
      "execution_count": 2,
      "outputs": [
        {
          "output_type": "stream",
          "name": "stdout",
          "text": [
            "Test_colab\n"
          ]
        }
      ]
    },
    {
      "cell_type": "code",
      "source": [],
      "metadata": {
        "id": "dhxCMY4Q0Af9"
      },
      "execution_count": null,
      "outputs": []
    }
  ]
}